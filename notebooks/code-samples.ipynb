{
 "cells": [
  {
   "cell_type": "code",
   "execution_count": 339,
   "metadata": {
    "collapsed": true
   },
   "outputs": [],
   "source": [
    "from functools import reduce\n",
    "import pandas as pd\n",
    "import numpy as np\n",
    "import itertools"
   ]
  },
  {
   "cell_type": "code",
   "execution_count": 340,
   "outputs": [],
   "source": [
    "data = pd.read_csv('../data/lymphography.data.small', header=None)\n",
    "data = data.drop([0], axis=1)"
   ],
   "metadata": {
    "collapsed": false,
    "pycharm": {
     "name": "#%%\n"
    }
   }
  },
  {
   "cell_type": "code",
   "execution_count": 341,
   "outputs": [],
   "source": [
    "def prob(event_count, n):\n",
    "    return event_count / n"
   ],
   "metadata": {
    "collapsed": false,
    "pycharm": {
     "name": "#%%\n"
    }
   }
  },
  {
   "cell_type": "code",
   "execution_count": 342,
   "outputs": [],
   "source": [
    "def cond_prob(X, Y):\n",
    "    return len(X & Y ) / len(Y)"
   ],
   "metadata": {
    "collapsed": false,
    "pycharm": {
     "name": "#%%\n"
    }
   }
  },
  {
   "cell_type": "code",
   "execution_count": 343,
   "outputs": [],
   "source": [
    "def get_event_count(x, col):\n",
    "    return data[col].value_counts()"
   ],
   "metadata": {
    "collapsed": false,
    "pycharm": {
     "name": "#%%\n"
    }
   }
  },
  {
   "cell_type": "code",
   "execution_count": 344,
   "outputs": [],
   "source": [
    "sets = data.apply(lambda col: list(set(col)))"
   ],
   "metadata": {
    "collapsed": false,
    "pycharm": {
     "name": "#%%\n"
    }
   }
  },
  {
   "cell_type": "code",
   "execution_count": 345,
   "outputs": [],
   "source": [
    "cols = data.apply(lambda col: list(col))"
   ],
   "metadata": {
    "collapsed": false,
    "pycharm": {
     "name": "#%%\n"
    }
   }
  },
  {
   "cell_type": "code",
   "execution_count": 346,
   "outputs": [],
   "source": [
    "mix = zip(sets, cols)\n",
    "res = map(lambda t: get_event_count(t[0],t[1]).to_numpy(), mix)\n",
    "probs = map(lambda c_row: [prob(c,data.shape[0]) for c in c_row], list(res))"
   ],
   "metadata": {
    "collapsed": false,
    "pycharm": {
     "name": "#%%\n"
    }
   }
  },
  {
   "cell_type": "code",
   "execution_count": 347,
   "outputs": [
    {
     "data": {
      "text/plain": "[[0.38333333333333336, 0.35, 0.26666666666666666],\n [0.5666666666666667, 0.43333333333333335],\n [0.7833333333333333, 0.21666666666666667],\n [0.9333333333333333, 0.06666666666666667],\n [0.7, 0.3],\n [0.5166666666666667, 0.48333333333333334],\n [0.8833333333333333, 0.11666666666666667],\n [0.7333333333333333, 0.26666666666666666],\n [0.9166666666666666, 0.05, 0.03333333333333333],\n [0.45, 0.3333333333333333, 0.11666666666666667, 0.1],\n [0.5333333333333333, 0.4166666666666667, 0.05],\n [0.36666666666666664, 0.31666666666666665, 0.31666666666666665],\n [0.55, 0.3, 0.13333333333333333, 0.016666666666666666],\n [0.3333333333333333,\n  0.21666666666666667,\n  0.16666666666666666,\n  0.1,\n  0.08333333333333333,\n  0.06666666666666667,\n  0.016666666666666666,\n  0.016666666666666666],\n [0.5666666666666667, 0.25, 0.18333333333333332],\n [0.6333333333333333, 0.36666666666666664],\n [0.8333333333333334, 0.16666666666666666],\n [0.35,\n  0.2833333333333333,\n  0.11666666666666667,\n  0.11666666666666667,\n  0.05,\n  0.03333333333333333,\n  0.03333333333333333,\n  0.016666666666666666]]"
     },
     "execution_count": 347,
     "metadata": {},
     "output_type": "execute_result"
    }
   ],
   "source": [
    "list(probs)"
   ],
   "metadata": {
    "collapsed": false,
    "pycharm": {
     "name": "#%%\n"
    }
   }
  },
  {
   "cell_type": "code",
   "execution_count": 347,
   "outputs": [],
   "source": [],
   "metadata": {
    "collapsed": false,
    "pycharm": {
     "name": "#%%\n"
    }
   }
  },
  {
   "cell_type": "code",
   "execution_count": 347,
   "outputs": [],
   "source": [],
   "metadata": {
    "collapsed": false,
    "pycharm": {
     "name": "#%%\n"
    }
   }
  }
 ],
 "metadata": {
  "kernelspec": {
   "display_name": "Python 3",
   "language": "python",
   "name": "python3"
  },
  "language_info": {
   "codemirror_mode": {
    "name": "ipython",
    "version": 2
   },
   "file_extension": ".py",
   "mimetype": "text/x-python",
   "name": "python",
   "nbconvert_exporter": "python",
   "pygments_lexer": "ipython2",
   "version": "2.7.6"
  }
 },
 "nbformat": 4,
 "nbformat_minor": 0
}